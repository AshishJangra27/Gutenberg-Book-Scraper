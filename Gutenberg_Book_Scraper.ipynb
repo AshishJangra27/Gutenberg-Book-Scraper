{
  "nbformat": 4,
  "nbformat_minor": 0,
  "metadata": {
    "colab": {
      "provenance": []
    },
    "kernelspec": {
      "name": "python3",
      "display_name": "Python 3"
    },
    "language_info": {
      "name": "python"
    }
  },
  "cells": [
    {
      "cell_type": "code",
      "execution_count": null,
      "metadata": {
        "id": "WZGNejYBN9h7"
      },
      "outputs": [],
      "source": [
        "import time\n",
        "import requests\n",
        "import numpy as np\n",
        "import pandas as pd\n",
        "from tqdm import tqdm\n",
        "from bs4 import BeautifulSoup"
      ]
    },
    {
      "cell_type": "markdown",
      "source": [
        "### 1. Scraping Book Links"
      ],
      "metadata": {
        "id": "t4H2lK6mSs6S"
      }
    },
    {
      "cell_type": "code",
      "source": [
        "df = pd.DataFrame()\n",
        "\n",
        "for i in tqdm('a b c d e f g h i j k l m n o p q r s t u v w x y z other'.split(' ')):\n",
        "  link = 'https://www.gutenberg.org/browse/titles/' + i\n",
        "\n",
        "  r = requests.get(link)\n",
        "  soup = BeautifulSoup(r.text, 'html.parser')\n",
        "\n",
        "  df_ = pd.DataFrame([[title.text, title.find('a').get('href')] for title in soup.find_all('h2')], columns = ['title','link'])\n",
        "  df = pd.concat((df_,df))"
      ],
      "metadata": {
        "colab": {
          "base_uri": "https://localhost:8080/"
        },
        "id": "OJ6g1QBGOMFp",
        "outputId": "2d20a32b-6836-4309-c13f-04cba8a35e65"
      },
      "execution_count": null,
      "outputs": [
        {
          "output_type": "stream",
          "name": "stderr",
          "text": [
            "100%|██████████| 27/27 [00:52<00:00,  1.94s/it]\n"
          ]
        }
      ]
    },
    {
      "cell_type": "markdown",
      "source": [
        "### 2. Scraping Book Details"
      ],
      "metadata": {
        "id": "8rIMVP7RSyde"
      }
    },
    {
      "cell_type": "code",
      "source": [
        "data = []\n",
        "\n",
        "for i in tqdm(df['link'].values):\n",
        "\n",
        "  try:\n",
        "    link = 'https://www.gutenberg.org/' + i\n",
        "\n",
        "    r = requests.get(link)\n",
        "    soup = BeautifulSoup(r.text, 'html.parser')\n",
        "    soup = soup.find('table', class_ = 'bibrec')\n",
        "    sp = soup.find_all('tr')[0]\n",
        "\n",
        "    if sp.find('th').text == 'Author':\n",
        "      author = sp.find('a').text\n",
        "      author_id = sp.find('a').get('href')\n",
        "\n",
        "\n",
        "    df_ = pd.read_html(link)[-1]\n",
        "    df_.rename(columns = {'0':'author_name','1':'author_id'}, inplace = True)\n",
        "\n",
        "    data.append([author,author_id])\n",
        "    df_.to_csv('books/' + link.split('/')[-1] + '.csv')\n",
        "  except:\n",
        "    data.append([np.nan,np.nan])"
      ],
      "metadata": {
        "colab": {
          "base_uri": "https://localhost:8080/"
        },
        "id": "JuzeOlFFSxxc",
        "outputId": "7bba4446-fabb-4681-8ac4-7aa6c0356b9e"
      },
      "execution_count": null,
      "outputs": [
        {
          "output_type": "stream",
          "name": "stderr",
          "text": [
            " 22%|██▏       | 22037/98014 [1:56:56<8:57:36,  2.36it/s]"
          ]
        }
      ]
    },
    {
      "cell_type": "code",
      "source": [
        "df"
      ],
      "metadata": {
        "id": "idIwswFYbBeQ",
        "colab": {
          "base_uri": "https://localhost:8080/",
          "height": 169
        },
        "outputId": "96c6659f-3a0b-4cb4-844d-94b721153f57"
      },
      "execution_count": 1,
      "outputs": [
        {
          "output_type": "error",
          "ename": "NameError",
          "evalue": "ignored",
          "traceback": [
            "\u001b[0;31m---------------------------------------------------------------------------\u001b[0m",
            "\u001b[0;31mNameError\u001b[0m                                 Traceback (most recent call last)",
            "\u001b[0;32m<ipython-input-1-00cf07b74dcd>\u001b[0m in \u001b[0;36m<cell line: 1>\u001b[0;34m()\u001b[0m\n\u001b[0;32m----> 1\u001b[0;31m \u001b[0mdf\u001b[0m\u001b[0;34m\u001b[0m\u001b[0;34m\u001b[0m\u001b[0m\n\u001b[0m",
            "\u001b[0;31mNameError\u001b[0m: name 'df' is not defined"
          ]
        }
      ]
    },
    {
      "cell_type": "code",
      "source": [],
      "metadata": {
        "id": "aX2ZKEa_71Ks"
      },
      "execution_count": null,
      "outputs": []
    }
  ]
}
{
  "nbformat": 4,
  "nbformat_minor": 0,
  "metadata": {
    "colab": {
      "provenance": []
    },
    "kernelspec": {
      "name": "python3",
      "display_name": "Python 3"
    },
    "language_info": {
      "name": "python"
    }
  },
  "cells": [
    {
      "cell_type": "code",
      "execution_count": 1,
      "metadata": {
        "id": "WZGNejYBN9h7"
      },
      "outputs": [],
      "source": [
        "import time\n",
        "import requests\n",
        "import numpy as np\n",
        "import pandas as pd\n",
        "from tqdm import tqdm\n",
        "import multiprocessing\n",
        "from bs4 import BeautifulSoup"
      ]
    },
    {
      "cell_type": "markdown",
      "source": [
        "### 1. Scraping Book Links"
      ],
      "metadata": {
        "id": "t4H2lK6mSs6S"
      }
    },
    {
      "cell_type": "code",
      "source": [
        "df = pd.DataFrame()\n",
        "\n",
        "for i in tqdm('a b c d e f g h i j k l m n o p q r s t u v w x y z other'.split(' ')):\n",
        "  link = 'https://www.gutenberg.org/browse/titles/' + i\n",
        "\n",
        "  r = requests.get(link)\n",
        "  soup = BeautifulSoup(r.text, 'html.parser')\n",
        "\n",
        "  df_ = pd.DataFrame([[title.text, title.find('a').get('href')] for title in soup.find_all('h2')], columns = ['title','link'])\n",
        "  df = pd.concat((df_,df))"
      ],
      "metadata": {
        "colab": {
          "base_uri": "https://localhost:8080/"
        },
        "id": "OJ6g1QBGOMFp",
        "outputId": "b5f48cc9-e239-4fa0-aee3-93d11c3d83a9"
      },
      "execution_count": 2,
      "outputs": [
        {
          "output_type": "stream",
          "name": "stderr",
          "text": [
            "100%|██████████| 27/27 [00:42<00:00,  1.59s/it]\n"
          ]
        }
      ]
    },
    {
      "cell_type": "markdown",
      "source": [
        "### 2. Scraping Book Details"
      ],
      "metadata": {
        "id": "8rIMVP7RSyde"
      }
    },
    {
      "cell_type": "code",
      "source": [
        "def download(st,nd):\n",
        "  data = []\n",
        "  for i in tqdm(df['link'].values[st:nd]):\n",
        "    try:\n",
        "      link = 'https://www.gutenberg.org/' + i\n",
        "\n",
        "      r = requests.get(link)\n",
        "      soup = BeautifulSoup(r.text, 'html.parser')\n",
        "      soup = soup.find('table', class_ = 'bibrec')\n",
        "      sp = soup.find_all('tr')[0]\n",
        "\n",
        "      if sp.find('th').text == 'Author':\n",
        "        author = sp.find('a').text\n",
        "        author_id = sp.find('a').get('href')\n",
        "\n",
        "\n",
        "      df_ = pd.read_html(link)[-1]\n",
        "      df_.rename(columns = {'0':'author_name','1':'author_id'}, inplace = True)\n",
        "\n",
        "      data.append([author,author_id])\n",
        "      df_.to_csv('books/' + link.split('/')[-1] + '.csv')\n",
        "    except:\n",
        "      data.append([np.nan,np.nan])"
      ],
      "metadata": {
        "id": "JuzeOlFFSxxc"
      },
      "execution_count": 6,
      "outputs": []
    },
    {
      "cell_type": "code",
      "source": [
        "p1 = multiprocessing.Process(target = download, args = (1 , 12000))\n",
        "p2 = multiprocessing.Process(target = download, args = (12000 , 24000))\n",
        "p3 = multiprocessing.Process(target = download, args = (24000 , 36000))\n",
        "p4 = multiprocessing.Process(target = download, args = (36000 , 48000))\n",
        "p5 = multiprocessing.Process(target = download, args = (48000 , 60000))\n",
        "p6 = multiprocessing.Process(target = download, args = (60000 , 72000))\n",
        "p7 = multiprocessing.Process(target = download, args = (72000 , 84000))\n",
        "p8 = multiprocessing.Process(target = download, args = (84000 , len(df)))\n",
        "\n",
        "p1.start()\n",
        "p2.start()\n",
        "p3.start()\n",
        "p4.start()\n",
        "p5.start()\n",
        "p6.start()\n",
        "p7.start()\n",
        "p8.start()\n",
        "\n",
        "p1.join()\n",
        "p2.join()\n",
        "p3.join()\n",
        "p4.join()\n",
        "p5.join()\n",
        "p6.join()\n",
        "p7.join()\n",
        "p8.join()"
      ],
      "metadata": {
        "id": "idIwswFYbBeQ",
        "colab": {
          "base_uri": "https://localhost:8080/"
        },
        "outputId": "e419f596-c5bb-4bf1-9a9d-1b709ae1dc9d"
      },
      "execution_count": 7,
      "outputs": [
        {
          "output_type": "stream",
          "name": "stderr",
          "text": [
            "100%|██████████| 12000/12000 [4:14:20<00:00,  1.27s/it]\n",
            "100%|██████████| 12000/12000 [4:14:22<00:00,  1.27s/it]\n",
            "100%|██████████| 12000/12000 [4:14:30<00:00,  1.27s/it]\n",
            "100%|██████████| 12000/12000 [4:14:40<00:00,  1.27s/it]\n",
            "100%|██████████| 12000/12000 [4:14:41<00:00,  1.27s/it]\n",
            "100%|██████████| 12000/12000 [4:14:43<00:00,  1.27s/it]\n",
            "100%|██████████| 11999/11999 [4:14:52<00:00,  1.27s/it]\n",
            "100%|██████████| 14150/14150 [4:41:39<00:00,  1.19s/it]\n"
          ]
        }
      ]
    },
    {
      "cell_type": "code",
      "source": [
        "!gzip books"
      ],
      "metadata": {
        "colab": {
          "base_uri": "https://localhost:8080/"
        },
        "id": "aX2ZKEa_71Ks",
        "outputId": "9c531b66-e06b-4f63-c37c-89055f33cf13"
      },
      "execution_count": 8,
      "outputs": [
        {
          "output_type": "stream",
          "name": "stdout",
          "text": [
            "gzip: books is a directory -- ignored\n"
          ]
        }
      ]
    },
    {
      "cell_type": "code",
      "source": [
        "import shutil\n",
        "\n",
        "shutil.make_archive('books', 'zip', 'books')"
      ],
      "metadata": {
        "colab": {
          "base_uri": "https://localhost:8080/",
          "height": 35
        },
        "id": "RQQ9CNNVtS-F",
        "outputId": "878c90e8-63d6-435a-afa1-93b6c519997c"
      },
      "execution_count": 9,
      "outputs": [
        {
          "output_type": "execute_result",
          "data": {
            "text/plain": [
              "'/content/books.zip'"
            ],
            "application/vnd.google.colaboratory.intrinsic+json": {
              "type": "string"
            }
          },
          "metadata": {},
          "execution_count": 9
        }
      ]
    },
    {
      "cell_type": "code",
      "source": [
        "df"
      ],
      "metadata": {
        "colab": {
          "base_uri": "https://localhost:8080/",
          "height": 423
        },
        "id": "6_gkEBAY0dta",
        "outputId": "66718f1e-5495-4cd6-acea-9083e2fa86bc"
      },
      "execution_count": 10,
      "outputs": [
        {
          "output_type": "execute_result",
          "data": {
            "text/plain": [
              "                                                  title           link\n",
              "0                              $1,000 a Plate (English)  /ebooks/50921\n",
              "1                              $1,000 a Plate (English)  /ebooks/50921\n",
              "2     The $100 Prize Essay on the Cultivation of the...  /ebooks/25905\n",
              "3     The $100 Prize Essay on the Cultivation of the...  /ebooks/25905\n",
              "4     The $30,000 Bequest, and Other Stories (English)    /ebooks/9003\n",
              "...                                                 ...            ...\n",
              "5663  Aztec Ruins National Monument, New Mexico (Eng...  /ebooks/46946\n",
              "5664                 The Aztec Treasure-House (English)  /ebooks/21618\n",
              "5665           Azul...Obras Completas Vol. IV (Spanish)  /ebooks/52894\n",
              "5666           Azul...Obras Completas Vol. IV (Spanish)  /ebooks/52894\n",
              "5667                  The Azure Rose: A Novel (English)  /ebooks/38436\n",
              "\n",
              "[98150 rows x 2 columns]"
            ],
            "text/html": [
              "\n",
              "\n",
              "  <div id=\"df-00032abd-4ea5-4592-85d0-a59fe4e5b75a\">\n",
              "    <div class=\"colab-df-container\">\n",
              "      <div>\n",
              "<style scoped>\n",
              "    .dataframe tbody tr th:only-of-type {\n",
              "        vertical-align: middle;\n",
              "    }\n",
              "\n",
              "    .dataframe tbody tr th {\n",
              "        vertical-align: top;\n",
              "    }\n",
              "\n",
              "    .dataframe thead th {\n",
              "        text-align: right;\n",
              "    }\n",
              "</style>\n",
              "<table border=\"1\" class=\"dataframe\">\n",
              "  <thead>\n",
              "    <tr style=\"text-align: right;\">\n",
              "      <th></th>\n",
              "      <th>title</th>\n",
              "      <th>link</th>\n",
              "    </tr>\n",
              "  </thead>\n",
              "  <tbody>\n",
              "    <tr>\n",
              "      <th>0</th>\n",
              "      <td>$1,000 a Plate (English)</td>\n",
              "      <td>/ebooks/50921</td>\n",
              "    </tr>\n",
              "    <tr>\n",
              "      <th>1</th>\n",
              "      <td>$1,000 a Plate (English)</td>\n",
              "      <td>/ebooks/50921</td>\n",
              "    </tr>\n",
              "    <tr>\n",
              "      <th>2</th>\n",
              "      <td>The $100 Prize Essay on the Cultivation of the...</td>\n",
              "      <td>/ebooks/25905</td>\n",
              "    </tr>\n",
              "    <tr>\n",
              "      <th>3</th>\n",
              "      <td>The $100 Prize Essay on the Cultivation of the...</td>\n",
              "      <td>/ebooks/25905</td>\n",
              "    </tr>\n",
              "    <tr>\n",
              "      <th>4</th>\n",
              "      <td>The $30,000 Bequest, and Other Stories (English)</td>\n",
              "      <td>/ebooks/9003</td>\n",
              "    </tr>\n",
              "    <tr>\n",
              "      <th>...</th>\n",
              "      <td>...</td>\n",
              "      <td>...</td>\n",
              "    </tr>\n",
              "    <tr>\n",
              "      <th>5663</th>\n",
              "      <td>Aztec Ruins National Monument, New Mexico (Eng...</td>\n",
              "      <td>/ebooks/46946</td>\n",
              "    </tr>\n",
              "    <tr>\n",
              "      <th>5664</th>\n",
              "      <td>The Aztec Treasure-House (English)</td>\n",
              "      <td>/ebooks/21618</td>\n",
              "    </tr>\n",
              "    <tr>\n",
              "      <th>5665</th>\n",
              "      <td>Azul...Obras Completas Vol. IV (Spanish)</td>\n",
              "      <td>/ebooks/52894</td>\n",
              "    </tr>\n",
              "    <tr>\n",
              "      <th>5666</th>\n",
              "      <td>Azul...Obras Completas Vol. IV (Spanish)</td>\n",
              "      <td>/ebooks/52894</td>\n",
              "    </tr>\n",
              "    <tr>\n",
              "      <th>5667</th>\n",
              "      <td>The Azure Rose: A Novel (English)</td>\n",
              "      <td>/ebooks/38436</td>\n",
              "    </tr>\n",
              "  </tbody>\n",
              "</table>\n",
              "<p>98150 rows × 2 columns</p>\n",
              "</div>\n",
              "      <button class=\"colab-df-convert\" onclick=\"convertToInteractive('df-00032abd-4ea5-4592-85d0-a59fe4e5b75a')\"\n",
              "              title=\"Convert this dataframe to an interactive table.\"\n",
              "              style=\"display:none;\">\n",
              "\n",
              "  <svg xmlns=\"http://www.w3.org/2000/svg\" height=\"24px\"viewBox=\"0 0 24 24\"\n",
              "       width=\"24px\">\n",
              "    <path d=\"M0 0h24v24H0V0z\" fill=\"none\"/>\n",
              "    <path d=\"M18.56 5.44l.94 2.06.94-2.06 2.06-.94-2.06-.94-.94-2.06-.94 2.06-2.06.94zm-11 1L8.5 8.5l.94-2.06 2.06-.94-2.06-.94L8.5 2.5l-.94 2.06-2.06.94zm10 10l.94 2.06.94-2.06 2.06-.94-2.06-.94-.94-2.06-.94 2.06-2.06.94z\"/><path d=\"M17.41 7.96l-1.37-1.37c-.4-.4-.92-.59-1.43-.59-.52 0-1.04.2-1.43.59L10.3 9.45l-7.72 7.72c-.78.78-.78 2.05 0 2.83L4 21.41c.39.39.9.59 1.41.59.51 0 1.02-.2 1.41-.59l7.78-7.78 2.81-2.81c.8-.78.8-2.07 0-2.86zM5.41 20L4 18.59l7.72-7.72 1.47 1.35L5.41 20z\"/>\n",
              "  </svg>\n",
              "      </button>\n",
              "\n",
              "\n",
              "\n",
              "    <div id=\"df-721f41f0-2146-49de-9c5a-3e92722f7a8f\">\n",
              "      <button class=\"colab-df-quickchart\" onclick=\"quickchart('df-721f41f0-2146-49de-9c5a-3e92722f7a8f')\"\n",
              "              title=\"Suggest charts.\"\n",
              "              style=\"display:none;\">\n",
              "\n",
              "<svg xmlns=\"http://www.w3.org/2000/svg\" height=\"24px\"viewBox=\"0 0 24 24\"\n",
              "     width=\"24px\">\n",
              "    <g>\n",
              "        <path d=\"M19 3H5c-1.1 0-2 .9-2 2v14c0 1.1.9 2 2 2h14c1.1 0 2-.9 2-2V5c0-1.1-.9-2-2-2zM9 17H7v-7h2v7zm4 0h-2V7h2v10zm4 0h-2v-4h2v4z\"/>\n",
              "    </g>\n",
              "</svg>\n",
              "      </button>\n",
              "    </div>\n",
              "\n",
              "<style>\n",
              "  .colab-df-quickchart {\n",
              "    background-color: #E8F0FE;\n",
              "    border: none;\n",
              "    border-radius: 50%;\n",
              "    cursor: pointer;\n",
              "    display: none;\n",
              "    fill: #1967D2;\n",
              "    height: 32px;\n",
              "    padding: 0 0 0 0;\n",
              "    width: 32px;\n",
              "  }\n",
              "\n",
              "  .colab-df-quickchart:hover {\n",
              "    background-color: #E2EBFA;\n",
              "    box-shadow: 0px 1px 2px rgba(60, 64, 67, 0.3), 0px 1px 3px 1px rgba(60, 64, 67, 0.15);\n",
              "    fill: #174EA6;\n",
              "  }\n",
              "\n",
              "  [theme=dark] .colab-df-quickchart {\n",
              "    background-color: #3B4455;\n",
              "    fill: #D2E3FC;\n",
              "  }\n",
              "\n",
              "  [theme=dark] .colab-df-quickchart:hover {\n",
              "    background-color: #434B5C;\n",
              "    box-shadow: 0px 1px 3px 1px rgba(0, 0, 0, 0.15);\n",
              "    filter: drop-shadow(0px 1px 2px rgba(0, 0, 0, 0.3));\n",
              "    fill: #FFFFFF;\n",
              "  }\n",
              "</style>\n",
              "\n",
              "    <script>\n",
              "      async function quickchart(key) {\n",
              "        const containerElement = document.querySelector('#' + key);\n",
              "        const charts = await google.colab.kernel.invokeFunction(\n",
              "            'suggestCharts', [key], {});\n",
              "      }\n",
              "    </script>\n",
              "\n",
              "      <script>\n",
              "\n",
              "function displayQuickchartButton(domScope) {\n",
              "  let quickchartButtonEl =\n",
              "    domScope.querySelector('#df-721f41f0-2146-49de-9c5a-3e92722f7a8f button.colab-df-quickchart');\n",
              "  quickchartButtonEl.style.display =\n",
              "    google.colab.kernel.accessAllowed ? 'block' : 'none';\n",
              "}\n",
              "\n",
              "        displayQuickchartButton(document);\n",
              "      </script>\n",
              "      <style>\n",
              "    .colab-df-container {\n",
              "      display:flex;\n",
              "      flex-wrap:wrap;\n",
              "      gap: 12px;\n",
              "    }\n",
              "\n",
              "    .colab-df-convert {\n",
              "      background-color: #E8F0FE;\n",
              "      border: none;\n",
              "      border-radius: 50%;\n",
              "      cursor: pointer;\n",
              "      display: none;\n",
              "      fill: #1967D2;\n",
              "      height: 32px;\n",
              "      padding: 0 0 0 0;\n",
              "      width: 32px;\n",
              "    }\n",
              "\n",
              "    .colab-df-convert:hover {\n",
              "      background-color: #E2EBFA;\n",
              "      box-shadow: 0px 1px 2px rgba(60, 64, 67, 0.3), 0px 1px 3px 1px rgba(60, 64, 67, 0.15);\n",
              "      fill: #174EA6;\n",
              "    }\n",
              "\n",
              "    [theme=dark] .colab-df-convert {\n",
              "      background-color: #3B4455;\n",
              "      fill: #D2E3FC;\n",
              "    }\n",
              "\n",
              "    [theme=dark] .colab-df-convert:hover {\n",
              "      background-color: #434B5C;\n",
              "      box-shadow: 0px 1px 3px 1px rgba(0, 0, 0, 0.15);\n",
              "      filter: drop-shadow(0px 1px 2px rgba(0, 0, 0, 0.3));\n",
              "      fill: #FFFFFF;\n",
              "    }\n",
              "  </style>\n",
              "\n",
              "      <script>\n",
              "        const buttonEl =\n",
              "          document.querySelector('#df-00032abd-4ea5-4592-85d0-a59fe4e5b75a button.colab-df-convert');\n",
              "        buttonEl.style.display =\n",
              "          google.colab.kernel.accessAllowed ? 'block' : 'none';\n",
              "\n",
              "        async function convertToInteractive(key) {\n",
              "          const element = document.querySelector('#df-00032abd-4ea5-4592-85d0-a59fe4e5b75a');\n",
              "          const dataTable =\n",
              "            await google.colab.kernel.invokeFunction('convertToInteractive',\n",
              "                                                     [key], {});\n",
              "          if (!dataTable) return;\n",
              "\n",
              "          const docLinkHtml = 'Like what you see? Visit the ' +\n",
              "            '<a target=\"_blank\" href=https://colab.research.google.com/notebooks/data_table.ipynb>data table notebook</a>'\n",
              "            + ' to learn more about interactive tables.';\n",
              "          element.innerHTML = '';\n",
              "          dataTable['output_type'] = 'display_data';\n",
              "          await google.colab.output.renderOutput(dataTable, element);\n",
              "          const docLink = document.createElement('div');\n",
              "          docLink.innerHTML = docLinkHtml;\n",
              "          element.appendChild(docLink);\n",
              "        }\n",
              "      </script>\n",
              "    </div>\n",
              "  </div>\n"
            ]
          },
          "metadata": {},
          "execution_count": 10
        }
      ]
    },
    {
      "cell_type": "code",
      "source": [
        "df.to_csv('data.csv', index = False)"
      ],
      "metadata": {
        "id": "FNuQdt-2tWzC"
      },
      "execution_count": 11,
      "outputs": []
    },
    {
      "cell_type": "code",
      "source": [],
      "metadata": {
        "id": "o-V4O2jb0sUZ"
      },
      "execution_count": null,
      "outputs": []
    }
  ]
}